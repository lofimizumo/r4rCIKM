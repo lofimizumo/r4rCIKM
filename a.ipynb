{
 "metadata": {
  "language_info": {
   "codemirror_mode": {
    "name": "ipython",
    "version": 3
   },
   "file_extension": ".py",
   "mimetype": "text/x-python",
   "name": "python",
   "nbconvert_exporter": "python",
   "pygments_lexer": "ipython3",
   "version": 3
  },
  "orig_nbformat": 2
 },
 "nbformat": 4,
 "nbformat_minor": 2,
 "cells": [
  {
   "source": [
    "import numpy as np\n",
    "from recommenders.Rec4RecRecommender import Rec4RecRecommender\n",
    "from recommenders.KNNRecommender import KNNRecommender\n",
    "from recommenders.RNNRecommender import RNNRecommender\n",
    "\n",
    "from util import evaluation\n",
    "from util.make_data import * \n",
    "from util.metrics import mrr,recall\n",
    "import os\n",
    "import argparse\n",
    "os.environ[\"KMP_DUPLICATE_LIB_OK\"] = \"TRUE\""
   ],
   "cell_type": "code",
   "metadata": {},
   "execution_count": null,
   "outputs": []
  },
  {
   "cell_type": "code",
   "execution_count": null,
   "metadata": {},
   "outputs": [],
   "source": []
  },
  {
   "cell_type": "code",
   "execution_count": null,
   "metadata": {},
   "outputs": [],
   "source": [
    "parser = argparse.ArgumentParser()\n",
    "parser.add_argument('--d', type=int, default=100)\n",
    "parser.add_argument('--n_iter', type=int, default=10)\n",
    "parser.add_argument('--seed', type=int, default=1234)\n",
    "parser.add_argument('--batch_size', type=int, default=1024)\n",
    "parser.add_argument('--learning_rate', type=float, default=.5e-2)\n",
    "parser.add_argument('--l2', type=float, default=3e-3)\n",
    "parser.add_argument('--neg_samples', type=int, default=3)\n",
    "parser.add_argument('--sets_of_neg_samples', type=int, default=50)\n",
    "config = parser.parse_args()\n",
    "METRICS = {'mrr': mrr}\n",
    "sequences, test_sequences = make_data_toy_data()\n",
    "item_count = item_count(sequences, 'sequence')\n",
    "\n",
    "rec_sknn = KNNRecommender(model='sknn', k=12)\n",
    "rec_gru4rec = RNNRecommender(session_layers=[\n",
    "                                20], batch_size=16, learning_rate=0.1, momentum=0.1, dropout=0.1, epochs=5)\n",
    "rec_ensemble = [rec_sknn, rec_gru4rec]\n",
    "for rec in rec_ensemble:\n",
    "    rec.fit(sequences)\n",
    "\n",
    "ensemble = Rec4RecRecommender(\n",
    "    item_count, 100, rec_ensemble, config, pretrained_embeddings=None)\n",
    "ensemble.fit(test_sequences,METRICS)\n",
    "\n",
    "ensemble_eval_score = evaluation.sequential_evaluation(\n",
    "    ensemble, test_sequences=test_sequences, evaluation_functions=METRICS.values(), top_n=10, scroll=False)"
   ]
  }
 ]
}