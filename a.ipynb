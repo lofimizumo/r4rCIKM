{
 "metadata": {
  "language_info": {
   "codemirror_mode": {
    "name": "ipython",
    "version": 3
   },
   "file_extension": ".py",
   "mimetype": "text/x-python",
   "name": "python",
   "nbconvert_exporter": "python",
   "pygments_lexer": "ipython3",
   "version": "3.6.13"
  },
  "orig_nbformat": 2,
  "kernelspec": {
   "name": "python3613jvsc74a57bd0853a4cd270a1c6712dc25514f48bedbc6ecd7981e9ce7d39e980f15a2326684e",
   "display_name": "Python 3.6.13 64-bit ('rec': conda)"
  }
 },
 "nbformat": 4,
 "nbformat_minor": 2,
 "cells": [
  {
   "source": [
    "import numpy as np\n",
    "from recommenders.Rec4RecRecommender import Rec4RecRecommender\n",
    "from recommenders.KNNRecommender import KNNRecommender\n",
    "from recommenders.RNNRecommender import RNNRecommender\n",
    "\n",
    "from util import evaluation\n",
    "from util.make_data import * \n",
    "from util.metrics import mrr,recall\n",
    "import os\n",
    "import argparse\n",
    "os.environ[\"KMP_DUPLICATE_LIB_OK\"] = \"TRUE\""
   ],
   "cell_type": "code",
   "metadata": {},
   "execution_count": 3,
   "outputs": []
  },
  {
   "cell_type": "code",
   "execution_count": 5,
   "metadata": {},
   "outputs": [
    {
     "output_type": "stream",
     "name": "stderr",
     "text": [
      "2021-05-11 12:19:03,062 - INFO - Converting training data to GRU4Rec format\n",
      "2021-05-11 12:19:03,078 - INFO - Training started\n",
      "2021-05-11 12:19:03,102 - INFO - Training completed\n",
      "  0%|          | 0/4207 [00:00<?, ?it/s]\n"
     ]
    },
    {
     "output_type": "error",
     "ename": "TypeError",
     "evalue": "unsupported operand type(s) for |: 'set' and 'NoneType'",
     "traceback": [
      "\u001b[1;31m---------------------------------------------------------------------------\u001b[0m",
      "\u001b[1;31mTypeError\u001b[0m                                 Traceback (most recent call last)",
      "\u001b[1;32m<ipython-input-5-848ea1699a1d>\u001b[0m in \u001b[0;36m<module>\u001b[1;34m\u001b[0m\n\u001b[0;32m     17\u001b[0m \u001b[1;33m\u001b[0m\u001b[0m\n\u001b[0;32m     18\u001b[0m eval_score = evaluation.sequential_evaluation(\n\u001b[1;32m---> 19\u001b[1;33m     rec_sknn, test_sequences=test_sequences, evaluation_functions=METRICS.values(), top_n=10, scroll=False)\n\u001b[0m",
      "\u001b[1;32mc:\\Users\\s5184119\\Documents\\Python Scripts\\r4r_cikm21\\util\\evaluation.py\u001b[0m in \u001b[0;36msequential_evaluation\u001b[1;34m(recommender, test_sequences, evaluation_functions, users, given_k, look_ahead, top_n, scroll, step)\u001b[0m\n\u001b[0;32m     55\u001b[0m                                              \u001b[0mgiven_k\u001b[0m\u001b[1;33m,\u001b[0m\u001b[1;33m\u001b[0m\u001b[1;33m\u001b[0m\u001b[0m\n\u001b[0;32m     56\u001b[0m                                              \u001b[0mlook_ahead\u001b[0m\u001b[1;33m,\u001b[0m\u001b[1;33m\u001b[0m\u001b[1;33m\u001b[0m\u001b[0m\n\u001b[1;32m---> 57\u001b[1;33m                                              top_n)\n\u001b[0m\u001b[0;32m     58\u001b[0m             \u001b[0mpbar\u001b[0m\u001b[1;33m.\u001b[0m\u001b[0mupdate\u001b[0m\u001b[1;33m(\u001b[0m\u001b[1;36m1\u001b[0m\u001b[1;33m)\u001b[0m\u001b[1;33m\u001b[0m\u001b[1;33m\u001b[0m\u001b[0m\n\u001b[0;32m     59\u001b[0m     \u001b[1;32mreturn\u001b[0m \u001b[0mmetrics\u001b[0m \u001b[1;33m/\u001b[0m \u001b[0mlen\u001b[0m\u001b[1;33m(\u001b[0m\u001b[0mtest_sequences\u001b[0m\u001b[1;33m)\u001b[0m\u001b[1;33m\u001b[0m\u001b[1;33m\u001b[0m\u001b[0m\n",
      "\u001b[1;32mc:\\Users\\s5184119\\Documents\\Python Scripts\\r4r_cikm21\\util\\evaluation.py\u001b[0m in \u001b[0;36mevaluate_sequence\u001b[1;34m(recommender, seq, evaluation_functions, user, ground_truth_count, look_ahead, top_n)\u001b[0m\n\u001b[0;32m    117\u001b[0m         \u001b[1;32mreturn\u001b[0m \u001b[0mnp\u001b[0m\u001b[1;33m.\u001b[0m\u001b[0mzeros\u001b[0m\u001b[1;33m(\u001b[0m\u001b[0mlen\u001b[0m\u001b[1;33m(\u001b[0m\u001b[0mevaluation_functions\u001b[0m\u001b[1;33m)\u001b[0m\u001b[1;33m)\u001b[0m\u001b[1;33m\u001b[0m\u001b[1;33m\u001b[0m\u001b[0m\n\u001b[0;32m    118\u001b[0m \u001b[1;33m\u001b[0m\u001b[0m\n\u001b[1;32m--> 119\u001b[1;33m     \u001b[0mr\u001b[0m \u001b[1;33m=\u001b[0m \u001b[0mrecommender\u001b[0m\u001b[1;33m.\u001b[0m\u001b[0mrecommend\u001b[0m\u001b[1;33m(\u001b[0m\u001b[0muser_profile\u001b[0m\u001b[1;33m,\u001b[0m \u001b[0muser\u001b[0m\u001b[1;33m)\u001b[0m\u001b[1;33m[\u001b[0m\u001b[1;33m:\u001b[0m\u001b[0mtop_n\u001b[0m\u001b[1;33m]\u001b[0m\u001b[1;33m\u001b[0m\u001b[1;33m\u001b[0m\u001b[0m\n\u001b[0m\u001b[0;32m    120\u001b[0m \u001b[1;33m\u001b[0m\u001b[0m\n\u001b[0;32m    121\u001b[0m     \u001b[1;32mif\u001b[0m \u001b[1;32mnot\u001b[0m \u001b[0mr\u001b[0m\u001b[1;33m:\u001b[0m\u001b[1;33m\u001b[0m\u001b[1;33m\u001b[0m\u001b[0m\n",
      "\u001b[1;32mc:\\Users\\s5184119\\Documents\\Python Scripts\\r4r_cikm21\\recommenders\\KNNRecommender.py\u001b[0m in \u001b[0;36mrecommend\u001b[1;34m(self, user_profile, user_id)\u001b[0m\n\u001b[0;32m     71\u001b[0m         \u001b[1;32mfor\u001b[0m \u001b[0mitem\u001b[0m \u001b[1;32min\u001b[0m \u001b[0muser_profile\u001b[0m\u001b[1;33m:\u001b[0m\u001b[1;33m\u001b[0m\u001b[1;33m\u001b[0m\u001b[0m\n\u001b[0;32m     72\u001b[0m             pred = self.model.predict_next(session_id=self.pseudo_session_id,\n\u001b[1;32m---> 73\u001b[1;33m                                            input_item_id=item)\n\u001b[0m\u001b[0;32m     74\u001b[0m         \u001b[1;31m# sort items by predicted score\u001b[0m\u001b[1;33m\u001b[0m\u001b[1;33m\u001b[0m\u001b[1;33m\u001b[0m\u001b[0m\n\u001b[0;32m     75\u001b[0m         \u001b[0mpred\u001b[0m\u001b[1;33m.\u001b[0m\u001b[0msort_values\u001b[0m\u001b[1;33m(\u001b[0m\u001b[1;36m0\u001b[0m\u001b[1;33m,\u001b[0m \u001b[0mascending\u001b[0m\u001b[1;33m=\u001b[0m\u001b[1;32mFalse\u001b[0m\u001b[1;33m,\u001b[0m \u001b[0minplace\u001b[0m\u001b[1;33m=\u001b[0m\u001b[1;32mTrue\u001b[0m\u001b[1;33m)\u001b[0m\u001b[1;33m\u001b[0m\u001b[1;33m\u001b[0m\u001b[0m\n",
      "\u001b[1;32mc:\\Users\\s5184119\\Documents\\Python Scripts\\r4r_cikm21\\util\\knn\\sknn.py\u001b[0m in \u001b[0;36mpredict_next\u001b[1;34m(self, session_id, input_item_id, predict_for_item_ids, skip, type, timestamp)\u001b[0m\n\u001b[0;32m    158\u001b[0m             \u001b[1;32mreturn\u001b[0m\u001b[1;33m\u001b[0m\u001b[1;33m\u001b[0m\u001b[0m\n\u001b[0;32m    159\u001b[0m \u001b[1;33m\u001b[0m\u001b[0m\n\u001b[1;32m--> 160\u001b[1;33m         \u001b[0mneighbors\u001b[0m \u001b[1;33m=\u001b[0m \u001b[0mself\u001b[0m\u001b[1;33m.\u001b[0m\u001b[0mfind_neighbors\u001b[0m\u001b[1;33m(\u001b[0m\u001b[0mset\u001b[0m\u001b[1;33m(\u001b[0m\u001b[0mself\u001b[0m\u001b[1;33m.\u001b[0m\u001b[0msession_items\u001b[0m\u001b[1;33m)\u001b[0m\u001b[1;33m,\u001b[0m \u001b[0minput_item_id\u001b[0m\u001b[1;33m,\u001b[0m \u001b[0msession_id\u001b[0m\u001b[1;33m)\u001b[0m\u001b[1;33m\u001b[0m\u001b[1;33m\u001b[0m\u001b[0m\n\u001b[0m\u001b[0;32m    161\u001b[0m         \u001b[0mscores\u001b[0m \u001b[1;33m=\u001b[0m \u001b[0mself\u001b[0m\u001b[1;33m.\u001b[0m\u001b[0mscore_items\u001b[0m\u001b[1;33m(\u001b[0m\u001b[0mneighbors\u001b[0m\u001b[1;33m)\u001b[0m\u001b[1;33m\u001b[0m\u001b[1;33m\u001b[0m\u001b[0m\n\u001b[0;32m    162\u001b[0m \u001b[1;33m\u001b[0m\u001b[0m\n",
      "\u001b[1;32mc:\\Users\\s5184119\\Documents\\Python Scripts\\r4r_cikm21\\util\\knn\\sknn.py\u001b[0m in \u001b[0;36mfind_neighbors\u001b[1;34m(self, session_items, input_item_id, session_id)\u001b[0m\n\u001b[0;32m    486\u001b[0m         \u001b[0mout\u001b[0m \u001b[1;33m:\u001b[0m \u001b[0mlist\u001b[0m \u001b[0mof\u001b[0m \u001b[0mtuple\u001b[0m \u001b[1;33m(\u001b[0m\u001b[0msession_id\u001b[0m\u001b[1;33m,\u001b[0m \u001b[0msimilarity\u001b[0m\u001b[1;33m)\u001b[0m\u001b[1;33m\u001b[0m\u001b[1;33m\u001b[0m\u001b[0m\n\u001b[0;32m    487\u001b[0m         '''\n\u001b[1;32m--> 488\u001b[1;33m         \u001b[0mpossible_neighbors\u001b[0m \u001b[1;33m=\u001b[0m \u001b[0mself\u001b[0m\u001b[1;33m.\u001b[0m\u001b[0mpossible_neighbor_sessions\u001b[0m\u001b[1;33m(\u001b[0m\u001b[0msession_items\u001b[0m\u001b[1;33m,\u001b[0m \u001b[0minput_item_id\u001b[0m\u001b[1;33m,\u001b[0m \u001b[0msession_id\u001b[0m\u001b[1;33m)\u001b[0m\u001b[1;33m\u001b[0m\u001b[1;33m\u001b[0m\u001b[0m\n\u001b[0m\u001b[0;32m    489\u001b[0m         \u001b[0mpossible_neighbors\u001b[0m \u001b[1;33m=\u001b[0m \u001b[0mself\u001b[0m\u001b[1;33m.\u001b[0m\u001b[0mcalc_similarity\u001b[0m\u001b[1;33m(\u001b[0m\u001b[0msession_items\u001b[0m\u001b[1;33m,\u001b[0m \u001b[0mpossible_neighbors\u001b[0m\u001b[1;33m)\u001b[0m\u001b[1;33m\u001b[0m\u001b[1;33m\u001b[0m\u001b[0m\n\u001b[0;32m    490\u001b[0m \u001b[1;33m\u001b[0m\u001b[0m\n",
      "\u001b[1;32mc:\\Users\\s5184119\\Documents\\Python Scripts\\r4r_cikm21\\util\\knn\\sknn.py\u001b[0m in \u001b[0;36mpossible_neighbor_sessions\u001b[1;34m(self, session_items, input_item_id, session_id)\u001b[0m\n\u001b[0;32m    417\u001b[0m         '''\n\u001b[0;32m    418\u001b[0m \u001b[1;33m\u001b[0m\u001b[0m\n\u001b[1;32m--> 419\u001b[1;33m         \u001b[0mself\u001b[0m\u001b[1;33m.\u001b[0m\u001b[0mrelevant_sessions\u001b[0m \u001b[1;33m=\u001b[0m \u001b[0mself\u001b[0m\u001b[1;33m.\u001b[0m\u001b[0mrelevant_sessions\u001b[0m \u001b[1;33m|\u001b[0m \u001b[0mself\u001b[0m\u001b[1;33m.\u001b[0m\u001b[0msessions_for_item\u001b[0m\u001b[1;33m(\u001b[0m\u001b[0minput_item_id\u001b[0m\u001b[1;33m)\u001b[0m\u001b[1;33m;\u001b[0m\u001b[1;33m\u001b[0m\u001b[1;33m\u001b[0m\u001b[0m\n\u001b[0m\u001b[0;32m    420\u001b[0m \u001b[1;33m\u001b[0m\u001b[0m\n\u001b[0;32m    421\u001b[0m         \u001b[1;32mif\u001b[0m \u001b[0mself\u001b[0m\u001b[1;33m.\u001b[0m\u001b[0msample_size\u001b[0m \u001b[1;33m==\u001b[0m \u001b[1;36m0\u001b[0m\u001b[1;33m:\u001b[0m  \u001b[1;31m# use all session as possible neighbors\u001b[0m\u001b[1;33m\u001b[0m\u001b[1;33m\u001b[0m\u001b[0m\n",
      "\u001b[1;31mTypeError\u001b[0m: unsupported operand type(s) for |: 'set' and 'NoneType'"
     ]
    }
   ],
   "source": [
    "parser = argparse.ArgumentParser()\n",
    "parser.add_argument('--d', type=int, default=100)\n",
    "parser.add_argument('--n_iter', type=int, default=10)\n",
    "parser.add_argument('--seed', type=int, default=1234)\n",
    "parser.add_argument('--batch_size', type=int, default=1024)\n",
    "parser.add_argument('--learning_rate', type=float, default=.5e-2)\n",
    "parser.add_argument('--l2', type=float, default=3e-3)\n",
    "parser.add_argument('--neg_samples', type=int, default=3)\n",
    "parser.add_argument('--sets_of_neg_samples', type=int, default=50)\n",
    "config = parser.parse_args('')\n",
    "METRICS = {'recall': recall}\n",
    "sequences, test_sequences = make_data_toy_data()\n",
    "item_count = item_count(sequences, 'sequence')\n",
    "\n",
    "rec_sknn = KNNRecommender(model='sknn', k=12)\n",
    "rec_sknn.fit(sequences)\n",
    "\n",
    "eval_score = evaluation.sequential_evaluation(\n",
    "    rec_sknn, test_sequences=test_sequences, evaluation_functions=METRICS.values(), top_n=10, scroll=False)"
   ]
  },
  {
   "cell_type": "code",
   "execution_count": null,
   "metadata": {},
   "outputs": [],
   "source": [
    "parser = argparse.ArgumentParser()\n",
    "parser.add_argument('--d', type=int, default=100)\n",
    "parser.add_argument('--n_iter', type=int, default=10)\n",
    "parser.add_argument('--seed', type=int, default=1234)\n",
    "parser.add_argument('--batch_size', type=int, default=1024)\n",
    "parser.add_argument('--learning_rate', type=float, default=.5e-2)\n",
    "parser.add_argument('--l2', type=float, default=3e-3)\n",
    "parser.add_argument('--neg_samples', type=int, default=3)\n",
    "parser.add_argument('--sets_of_neg_samples', type=int, default=50)\n",
    "config = parser.parse_args()\n",
    "METRICS = {'mrr': mrr}\n",
    "sequences, test_sequences = make_data_toy_data()\n",
    "item_count = item_count(sequences, 'sequence')\n",
    "\n",
    "rec_sknn = KNNRecommender(model='sknn', k=12)\n",
    "rec_gru4rec = RNNRecommender(session_layers=[\n",
    "                                20], batch_size=16, learning_rate=0.1, momentum=0.1, dropout=0.1, epochs=5)\n",
    "rec_ensemble = [rec_sknn, rec_gru4rec]\n",
    "for rec in rec_ensemble:\n",
    "    rec.fit(sequences)\n",
    "\n",
    "ensemble = Rec4RecRecommender(\n",
    "    item_count, 100, rec_ensemble, config, pretrained_embeddings=None)\n",
    "ensemble.fit(test_sequences,METRICS)\n",
    "\n",
    "ensemble_eval_score = evaluation.sequential_evaluation(\n",
    "    ensemble, test_sequences=test_sequences, evaluation_functions=METRICS.values(), top_n=10, scroll=False)"
   ]
  }
 ]
}